{
 "cells": [
  {
   "cell_type": "markdown",
   "metadata": {},
   "source": [
    "Author - Cian Gallagher\n",
    "\n",
    "<H5>Assignment to read in weather data csv file hosted on github and create a plot of temperature over time.</H5>\n",
    "\n",
    "- File location - https://github.com/andrewbeattycourseware/PFDA-courseware/blob/main/assignment/weatherreadings1.csv\n",
    "\n",
    "- Variable/Column - \"dryBulbTemperature_Celsius\""
   ]
  },
  {
   "cell_type": "code",
   "execution_count": 21,
   "metadata": {},
   "outputs": [
    {
     "data": {
      "text/html": [
       "<div>\n",
       "<style scoped>\n",
       "    .dataframe tbody tr th:only-of-type {\n",
       "        vertical-align: middle;\n",
       "    }\n",
       "\n",
       "    .dataframe tbody tr th {\n",
       "        vertical-align: top;\n",
       "    }\n",
       "\n",
       "    .dataframe thead th {\n",
       "        text-align: right;\n",
       "    }\n",
       "</style>\n",
       "<table border=\"1\" class=\"dataframe\">\n",
       "  <thead>\n",
       "    <tr style=\"text-align: right;\">\n",
       "      <th></th>\n",
       "      <th>reportEndDateTime</th>\n",
       "      <th>dryBulbTemperature_Celsius</th>\n",
       "    </tr>\n",
       "  </thead>\n",
       "  <tbody>\n",
       "    <tr>\n",
       "      <th>0</th>\n",
       "      <td>2024-10-02T16:15:00+00:00</td>\n",
       "      <td>15.944444</td>\n",
       "    </tr>\n",
       "    <tr>\n",
       "      <th>1</th>\n",
       "      <td>2024-10-02T16:45:00+00:00</td>\n",
       "      <td>15.777778</td>\n",
       "    </tr>\n",
       "    <tr>\n",
       "      <th>2</th>\n",
       "      <td>2024-10-02T17:00:00+00:00</td>\n",
       "      <td>15.111111</td>\n",
       "    </tr>\n",
       "    <tr>\n",
       "      <th>3</th>\n",
       "      <td>2024-10-02T17:15:00+00:00</td>\n",
       "      <td>14.277778</td>\n",
       "    </tr>\n",
       "    <tr>\n",
       "      <th>4</th>\n",
       "      <td>2024-10-02T17:30:00+00:00</td>\n",
       "      <td>13.666667</td>\n",
       "    </tr>\n",
       "    <tr>\n",
       "      <th>...</th>\n",
       "      <td>...</td>\n",
       "      <td>...</td>\n",
       "    </tr>\n",
       "    <tr>\n",
       "      <th>84</th>\n",
       "      <td>2024-10-03T14:00:00+00:00</td>\n",
       "      <td>14.611111</td>\n",
       "    </tr>\n",
       "    <tr>\n",
       "      <th>85</th>\n",
       "      <td>2024-10-03T14:15:00+00:00</td>\n",
       "      <td>14.944444</td>\n",
       "    </tr>\n",
       "    <tr>\n",
       "      <th>86</th>\n",
       "      <td>2024-10-03T14:30:00+00:00</td>\n",
       "      <td>14.944444</td>\n",
       "    </tr>\n",
       "    <tr>\n",
       "      <th>87</th>\n",
       "      <td>2024-10-03T14:45:00+00:00</td>\n",
       "      <td>14.944444</td>\n",
       "    </tr>\n",
       "    <tr>\n",
       "      <th>88</th>\n",
       "      <td>2024-10-03T15:00:00+00:00</td>\n",
       "      <td>14.722222</td>\n",
       "    </tr>\n",
       "  </tbody>\n",
       "</table>\n",
       "<p>89 rows × 2 columns</p>\n",
       "</div>"
      ],
      "text/plain": [
       "            reportEndDateTime  dryBulbTemperature_Celsius\n",
       "0   2024-10-02T16:15:00+00:00                   15.944444\n",
       "1   2024-10-02T16:45:00+00:00                   15.777778\n",
       "2   2024-10-02T17:00:00+00:00                   15.111111\n",
       "3   2024-10-02T17:15:00+00:00                   14.277778\n",
       "4   2024-10-02T17:30:00+00:00                   13.666667\n",
       "..                        ...                         ...\n",
       "84  2024-10-03T14:00:00+00:00                   14.611111\n",
       "85  2024-10-03T14:15:00+00:00                   14.944444\n",
       "86  2024-10-03T14:30:00+00:00                   14.944444\n",
       "87  2024-10-03T14:45:00+00:00                   14.944444\n",
       "88  2024-10-03T15:00:00+00:00                   14.722222\n",
       "\n",
       "[89 rows x 2 columns]"
      ]
     },
     "execution_count": 21,
     "metadata": {},
     "output_type": "execute_result"
    }
   ],
   "source": [
    "import pandas as pd\n",
    "import matplotlib as plt\n",
    "\n",
    "# \"?raw=true\" added to the end of the URL to correct the ParserError\n",
    "url = \"https://github.com/andrewbeattycourseware/PFDA-courseware/blob/main/assignment/weatherreadings1.csv?raw=true\"\n",
    "\n",
    "df = pd.read_csv(url)\n",
    "# double columns must be used in pandas when selecting more than 1 column using this method\n",
    "columns = df[[\"reportEndDateTime\", \"dryBulbTemperature_Celsius\"]]\n",
    "\n",
    "columns"
   ]
  },
  {
   "cell_type": "code",
   "execution_count": null,
   "metadata": {},
   "outputs": [],
   "source": [
    "plt.scatter(columns)"
   ]
  }
 ],
 "metadata": {
  "kernelspec": {
   "display_name": "Python 3",
   "language": "python",
   "name": "python3"
  },
  "language_info": {
   "codemirror_mode": {
    "name": "ipython",
    "version": 3
   },
   "file_extension": ".py",
   "mimetype": "text/x-python",
   "name": "python",
   "nbconvert_exporter": "python",
   "pygments_lexer": "ipython3",
   "version": "3.10.12"
  }
 },
 "nbformat": 4,
 "nbformat_minor": 2
}
