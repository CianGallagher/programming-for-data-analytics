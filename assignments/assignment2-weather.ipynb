{
 "cells": [
  {
   "cell_type": "markdown",
   "metadata": {},
   "source": [
    "Author - Cian Gallagher\n",
    "\n",
    "<H5>Assignment to read in weather data csv file hosted on github and create a plot of temperature over time.</H5>\n",
    "\n",
    "- File location - https://github.com/andrewbeattycourseware/PFDA-courseware/blob/main/assignment/weatherreadings1.csv\n",
    "\n",
    "- Variable/Column - \"dryBulbTemperature_Celsius\""
   ]
  },
  {
   "cell_type": "code",
   "execution_count": 10,
   "metadata": {},
   "outputs": [
    {
     "name": "stdout",
     "output_type": "stream",
     "text": [
      "0     15.944444\n",
      "1     15.777778\n",
      "2     15.111111\n",
      "3     14.277778\n",
      "4     13.666667\n",
      "        ...    \n",
      "84    14.611111\n",
      "85    14.944444\n",
      "86    14.944444\n",
      "87    14.944444\n",
      "88    14.722222\n",
      "Name: dryBulbTemperature_Celsius, Length: 89, dtype: float64\n"
     ]
    }
   ],
   "source": [
    "import pandas as pd\n",
    "\n",
    "# \"?raw=true\" added to the end of the URL to correct the ParserError\n",
    "url = \"https://github.com/andrewbeattycourseware/PFDA-courseware/blob/main/assignment/weatherreadings1.csv?raw=true\"\n",
    "\n",
    "data = pd.read_csv(url)\n",
    "temp_column = \"dryBulbTemperature_Celsius\"\n",
    "temp_output = data[temp_column]\n",
    "\n",
    "temp_output\n"
   ]
  },
  {
   "cell_type": "code",
   "execution_count": null,
   "metadata": {},
   "outputs": [],
   "source": []
  }
 ],
 "metadata": {
  "kernelspec": {
   "display_name": "Python 3",
   "language": "python",
   "name": "python3"
  },
  "language_info": {
   "codemirror_mode": {
    "name": "ipython",
    "version": 3
   },
   "file_extension": ".py",
   "mimetype": "text/x-python",
   "name": "python",
   "nbconvert_exporter": "python",
   "pygments_lexer": "ipython3",
   "version": "3.10.12"
  }
 },
 "nbformat": 4,
 "nbformat_minor": 2
}
