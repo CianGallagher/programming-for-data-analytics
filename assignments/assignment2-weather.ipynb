{
 "cells": [
  {
   "cell_type": "markdown",
   "metadata": {},
   "source": [
    "<H5>Assignment to read in weather data csv file hosted on github and create a plot of temperature over time.</H5>\n",
    "\n",
    "- File location - https://github.com/andrewbeattycourseware/PFDA-courseware/blob/main/assignment/weatherreadings1.csv\n",
    "\n",
    "- Variable/Column - \"dryBulbTemperature_Celsius\""
   ]
  },
  {
   "cell_type": "code",
   "execution_count": 7,
   "metadata": {},
   "outputs": [
    {
     "name": "stdout",
     "output_type": "stream",
     "text": [
      "                                  siteId        reportStartDateTime  \\\n",
      "0   f2d42aea-f516-ec11-b76a-0003ff599499  2024-10-02T16:15:00+00:00   \n",
      "1   f2d42aea-f516-ec11-b76a-0003ff599499  2024-10-02T16:45:00+00:00   \n",
      "2   f2d42aea-f516-ec11-b76a-0003ff599499  2024-10-02T17:00:00+00:00   \n",
      "3   f2d42aea-f516-ec11-b76a-0003ff599499  2024-10-02T17:15:00+00:00   \n",
      "4   f2d42aea-f516-ec11-b76a-0003ff599499  2024-10-02T17:30:00+00:00   \n",
      "..                                   ...                        ...   \n",
      "84  f2d42aea-f516-ec11-b76a-0003ff599499  2024-10-03T14:00:00+00:00   \n",
      "85  f2d42aea-f516-ec11-b76a-0003ff599499  2024-10-03T14:15:00+00:00   \n",
      "86  f2d42aea-f516-ec11-b76a-0003ff599499  2024-10-03T14:30:00+00:00   \n",
      "87  f2d42aea-f516-ec11-b76a-0003ff599499  2024-10-03T14:45:00+00:00   \n",
      "88  f2d42aea-f516-ec11-b76a-0003ff599499  2024-10-03T15:00:00+00:00   \n",
      "\n",
      "            reportEndDateTime  collectionName  isPublic  isLatestVersion  \\\n",
      "0   2024-10-02T16:15:00+00:00               1      True             True   \n",
      "1   2024-10-02T16:45:00+00:00               1      True             True   \n",
      "2   2024-10-02T17:00:00+00:00               1      True             True   \n",
      "3   2024-10-02T17:15:00+00:00               1      True             True   \n",
      "4   2024-10-02T17:30:00+00:00               1      True             True   \n",
      "..                        ...             ...       ...              ...   \n",
      "84  2024-10-03T14:00:00+00:00               1      True             True   \n",
      "85  2024-10-03T14:15:00+00:00               1      True             True   \n",
      "86  2024-10-03T14:30:00+00:00               1      True             True   \n",
      "87  2024-10-03T14:45:00+00:00               1      True             True   \n",
      "88  2024-10-03T15:00:00+00:00               1      True             True   \n",
      "\n",
      "    observationType softwareType  windDirection  relativeHumidity  ...  \\\n",
      "0                 1  WeatherLink            322              70.4  ...   \n",
      "1                 1  WeatherLink            327              72.4  ...   \n",
      "2                 1  WeatherLink             27              73.4  ...   \n",
      "3                 1  WeatherLink             38              74.9  ...   \n",
      "4                 1  WeatherLink              0              77.0  ...   \n",
      "..              ...          ...            ...               ...  ...   \n",
      "84                1  WeatherLink            335              77.8  ...   \n",
      "85                1  WeatherLink             14              77.2  ...   \n",
      "86                1  WeatherLink            354              76.9  ...   \n",
      "87                1  WeatherLink            307              76.5  ...   \n",
      "88                1  WeatherLink              5              77.5  ...   \n",
      "\n",
      "    isDcnn  longitude  latitude  height                                  id  \\\n",
      "0    False    -8.8545   53.5244      45  20241002oarq1xwy5re69kyhyyguw31uhh   \n",
      "1    False    -8.8545   53.5244      45  20241002zafpyewy5we69kyhyytrtenn4a   \n",
      "2    False    -8.8545   53.5244      45  202410027k7rmycy5he69kyhyytrtenn4a   \n",
      "3    False    -8.8545   53.5244      45  20241002h49q6thyhre69kyhyytrtenn4a   \n",
      "4    False    -8.8545   53.5244      45  20241002977ft1hyhce69kyhyytrtenn4a   \n",
      "..     ...        ...       ...     ...                                 ...   \n",
      "84   False    -8.8545   53.5244      45  202410034sie5kcbthe69kyhyyguw31uhh   \n",
      "85   False    -8.8545   53.5244      45  202410037edh3yhb1re69kyhyyguw31uhh   \n",
      "86   False    -8.8545   53.5244      45  20241003b396uzhb1oe69kyhyytrtenn4a   \n",
      "87   False    -8.8545   53.5244      45  20241003m16wydcb1ae69kyhyytrtenn4a   \n",
      "88   False    -8.8545   53.5244      45  20241003mxugxbcbuye69kyhyytrtenn4a   \n",
      "\n",
      "       localReportEndDateTime  externalSiteId  \\\n",
      "0   2024-10-02T16:15:00+00:00      1000013318   \n",
      "1   2024-10-02T16:45:00+00:00      1000013318   \n",
      "2   2024-10-02T17:00:00+00:00      1000013318   \n",
      "3   2024-10-02T17:15:00+00:00      1000013318   \n",
      "4   2024-10-02T17:30:00+00:00      1000013318   \n",
      "..                        ...             ...   \n",
      "84  2024-10-03T14:00:00+00:00      1000013318   \n",
      "85  2024-10-03T14:15:00+00:00      1000013318   \n",
      "86  2024-10-03T14:30:00+00:00      1000013318   \n",
      "87  2024-10-03T14:45:00+00:00      1000013318   \n",
      "88  2024-10-03T15:00:00+00:00      1000013318   \n",
      "\n",
      "                      createdDateTime  version   externalId  \n",
      "0   2024-10-02T16:15:28.5671119+00:00        1  12577570561  \n",
      "1   2024-10-02T16:45:40.4251616+00:00        1  12577595550  \n",
      "2   2024-10-02T17:01:12.3376405+00:00        1  12577608947  \n",
      "3   2024-10-02T17:15:22.2638326+00:00        1  12577622149  \n",
      "4   2024-10-02T17:30:29.3915476+00:00        1  12577636922  \n",
      "..                                ...      ...          ...  \n",
      "84  2024-10-03T14:00:25.2118092+00:00        1  12578832191  \n",
      "85  2024-10-03T14:15:20.6677085+00:00        1  12578846874  \n",
      "86  2024-10-03T14:30:45.6588747+00:00        1  12578862046  \n",
      "87  2024-10-03T14:47:10.3227765+00:00        1  12578876749  \n",
      "88  2024-10-03T15:01:27.9432439+00:00        1  12578888986  \n",
      "\n",
      "[89 rows x 35 columns]\n"
     ]
    }
   ],
   "source": [
    "import pandas as pd\n",
    "\n",
    "# \"?raw=true\" added to the end of the URL to correct the ParserError\n",
    "url = \"https://github.com/andrewbeattycourseware/PFDA-courseware/blob/main/assignment/weatherreadings1.csv?raw=true\"\n",
    "\n",
    "weather_data = pd.read_csv(url)\n",
    "print(weather_data, \"dryBulbTemperature_Celsius\")"
   ]
  },
  {
   "cell_type": "code",
   "execution_count": null,
   "metadata": {},
   "outputs": [],
   "source": []
  }
 ],
 "metadata": {
  "kernelspec": {
   "display_name": "Python 3",
   "language": "python",
   "name": "python3"
  },
  "language_info": {
   "codemirror_mode": {
    "name": "ipython",
    "version": 3
   },
   "file_extension": ".py",
   "mimetype": "text/x-python",
   "name": "python",
   "nbconvert_exporter": "python",
   "pygments_lexer": "ipython3",
   "version": "3.10.12"
  }
 },
 "nbformat": 4,
 "nbformat_minor": 2
}
