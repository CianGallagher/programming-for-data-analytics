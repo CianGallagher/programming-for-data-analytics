{
 "cells": [
  {
   "cell_type": "markdown",
   "metadata": {},
   "source": [
    "# Author Cian Gallagher\n",
    "\n",
    "Notebook demonstrating the loading of a remote CSV file, plotting the data within said file on a pie chart broken down by email domain."
   ]
  },
  {
   "cell_type": "code",
   "execution_count": 14,
   "metadata": {},
   "outputs": [
    {
     "data": {
      "text/plain": [
       "{'example.org': 341, 'example.net': 320, 'example.com': 339}"
      ]
     },
     "execution_count": 14,
     "metadata": {},
     "output_type": "execute_result"
    }
   ],
   "source": [
    "import pandas as pd\n",
    "import matplotlib.pyplot as plt\n",
    "\n",
    "df = pd.read_csv(\"https://drive.google.com/uc?id=1AWPf-pJodJKeHsARQK_RHiNsE8fjPCVK&export=download\")\n",
    "# Uncomment the following line to see the entire dataframe.\n",
    "# df \n",
    "\n",
    "# Filtering down columns\n",
    "# email_col = df.loc[:,\"Email\"]\n",
    "email_col = df[\"Email\"]\n",
    "\n",
    "# Loop that slices up the emails strings on @ character and stores the characters after @ in a list.\n",
    "email_domains = []\n",
    "for email in email_col:\n",
    "    domain = email.split(\"@\")[1]\n",
    "    email_domains.append(domain)   \n",
    "    \n",
    "# Counting each domain and adding to dict domain_counts.\n",
    "domain_counts = {}\n",
    "for domain in email_domains:\n",
    "    if domain in domain_counts:\n",
    "        domain_counts[domain] += 1\n",
    "    else:\n",
    "        domain_counts[domain] = 1\n",
    "\n",
    "\n",
    "domain_counts\n",
    "\n",
    "\n",
    "\n"
   ]
  }
 ],
 "metadata": {
  "kernelspec": {
   "display_name": "base",
   "language": "python",
   "name": "python3"
  },
  "language_info": {
   "codemirror_mode": {
    "name": "ipython",
    "version": 3
   },
   "file_extension": ".py",
   "mimetype": "text/x-python",
   "name": "python",
   "nbconvert_exporter": "python",
   "pygments_lexer": "ipython3",
   "version": "3.12.4"
  }
 },
 "nbformat": 4,
 "nbformat_minor": 2
}
